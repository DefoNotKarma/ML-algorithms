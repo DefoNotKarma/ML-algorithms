{
 "cells": [
  {
   "cell_type": "code",
   "execution_count": 104,
   "id": "c55b0982-0c70-49b4-9f3d-8a0af56521a5",
   "metadata": {},
   "outputs": [],
   "source": [
    "import numpy as np\n",
    "import pandas as pd\n",
    "import matplotlib.pyplot as plt\n",
    "np.set_printoptions(suppress = True, precision=7) "
   ]
  },
  {
   "cell_type": "code",
   "execution_count": 105,
   "id": "237ae317-38ad-4258-9cd9-1a53f6c593f2",
   "metadata": {},
   "outputs": [
    {
     "data": {
      "text/plain": [
       "array([[-7.3389881, -7.729954 ],\n",
       "       [-7.7400406, -7.2646651],\n",
       "       [-1.6866527,  7.7934425],\n",
       "       [ 4.4221976,  3.0719465],\n",
       "       [-8.9177517, -7.8881959]])"
      ]
     },
     "execution_count": 105,
     "metadata": {},
     "output_type": "execute_result"
    }
   ],
   "source": [
    "from sklearn.datasets import make_blobs\n",
    "x, y = make_blobs(n_samples=300, centers=3, cluster_std=1.0, random_state=42)\n",
    "x[:5]"
   ]
  },
  {
   "cell_type": "code",
   "execution_count": 106,
   "id": "e0c06936-45f3-4202-aa0a-12ddfe27ae22",
   "metadata": {},
   "outputs": [
    {
     "data": {
      "text/plain": [
       "array([[ 0.2073684,  7.6129776],\n",
       "       [-6.2336134,  5.6585382],\n",
       "       [-4.7545326, 11.1971726]])"
      ]
     },
     "execution_count": 106,
     "metadata": {},
     "output_type": "execute_result"
    }
   ],
   "source": [
    "k = 3\n",
    "centroids = [[np.random.uniform(min(x[:, 0])), np.random.uniform(max(x[:, 1]))] for _ in range(k)]\n",
    "centroids = np.array(centroids)\n",
    "centroids"
   ]
  },
  {
   "cell_type": "code",
   "execution_count": 107,
   "id": "a85bbe69-2d58-499f-b261-c7a02ee3976b",
   "metadata": {},
   "outputs": [
    {
     "data": {
      "text/plain": [
       "<matplotlib.collections.PathCollection at 0x19063116a10>"
      ]
     },
     "execution_count": 107,
     "metadata": {},
     "output_type": "execute_result"
    },
    {
     "data": {
      "image/png": "[encoded data removed]",
      "text/plain": [
       "<Figure size 640x480 with 1 Axes>"
      ]
     },
     "metadata": {},
     "output_type": "display_data"
    }
   ],
   "source": [
    "plt.scatter(x[:, 0], x[:, 1])\n",
    "plt.scatter(centroids[:, 0], centroids[:, 1], marker = \"x\", color = \"red\")"
   ]
  },
  {
   "cell_type": "code",
   "execution_count": 108,
   "id": "ff4ed40c-aba1-4c24-a0e8-e05c16104891",
   "metadata": {},
   "outputs": [
    {
     "name": "stdout",
     "output_type": "stream",
     "text": [
      "[0.2073684 7.6129776]\n",
      "[-6.2336134  5.6585382]\n",
      "[-4.7545326 11.1971726]\n"
     ]
    },
    {
     "data": {
      "text/plain": [
       "(3, 300)"
      ]
     },
     "execution_count": 108,
     "metadata": {},
     "output_type": "execute_result"
    }
   ],
   "source": [
    "distances = []\n",
    "for i in centroids:\n",
    "    print(i)\n",
    "    distance_array = np.linalg.norm(x - i, axis = 1)\n",
    "    distances.append(distance_array)\n",
    "\n",
    "distances = np.array(distances)\n",
    "distances.shape"
   ]
  },
  {
   "cell_type": "code",
   "execution_count": 109,
   "id": "4722ded3-576a-493d-9494-8d82616b831b",
   "metadata": {},
   "outputs": [
    {
     "data": {
      "text/plain": [
       "array([17.0983345, 13.4340454, 19.1027623])"
      ]
     },
     "execution_count": 109,
     "metadata": {},
     "output_type": "execute_result"
    }
   ],
   "source": [
    "distances[:, 0]"
   ]
  },
  {
   "cell_type": "code",
   "execution_count": 110,
   "id": "3c438e33-30b4-4b25-bcfa-39c2f7ccca75",
   "metadata": {},
   "outputs": [
    {
     "data": {
      "text/plain": [
       "1"
      ]
     },
     "execution_count": 110,
     "metadata": {},
     "output_type": "execute_result"
    }
   ],
   "source": [
    "np.argmin(distances[:, 0])"
   ]
  },
  {
   "cell_type": "code",
   "execution_count": 111,
   "id": "9f7c38a8-dfe5-43db-9acb-d35ba172e60a",
   "metadata": {},
   "outputs": [
    {
     "data": {
      "text/plain": [
       "array([[-7.3389881, -7.729954 ],\n",
       "       [-7.7400406, -7.2646651],\n",
       "       [-8.9177517, -7.8881959],\n",
       "       [-7.5302698, -7.367235 ],\n",
       "       [-8.5071696, -6.8320246],\n",
       "       [-6.9919552, -7.1010792],\n",
       "       [-6.349823 , -5.438541 ],\n",
       "       [-7.4563985, -6.1247184],\n",
       "       [-6.0492914, -7.7361934],\n",
       "       [-8.3948183, -5.5132353],\n",
       "       [-6.1226386, -7.8022749],\n",
       "       [-6.9866576, -7.9153519],\n",
       "       [-7.3672334, -7.3126678],\n",
       "       [-6.808061 , -7.357767 ],\n",
       "       [-6.5420245, -7.2919866],\n",
       "       [-6.8875998, -5.4001655],\n",
       "       [-6.5130289, -7.8199894],\n",
       "       [-5.70033  , -6.8125911],\n",
       "       [-6.485175 , -7.3010941],\n",
       "       [-6.6440126, -6.1092444],\n",
       "       [-3.8007464, -5.7605347],\n",
       "       [-7.1285913, -5.9085386],\n",
       "       [-6.1680123, -8.0047517],\n",
       "       [-8.5830096, -6.9356573],\n",
       "       [-5.8212027, -8.6388491],\n",
       "       [-7.5793527, -6.6661297],\n",
       "       [-6.6091704, -6.9303477],\n",
       "       [-8.9470693, -6.9692296],\n",
       "       [-6.37871  , -7.8576648],\n",
       "       [-6.0439351, -8.0098164],\n",
       "       [-5.7118451, -6.6256887],\n",
       "       [-8.5490325, -6.3367494],\n",
       "       [-6.4006474, -6.5464475],\n",
       "       [-7.4332765, -8.0779875],\n",
       "       [-7.9472476, -7.0224891],\n",
       "       [-7.6428863, -8.6849917],\n",
       "       [-6.4661923, -5.0033138],\n",
       "       [-8.2781948, -6.3171404],\n",
       "       [-7.9168733, -7.0704483],\n",
       "       [-8.7504191, -7.2316231],\n",
       "       [-6.3030702, -6.5688594],\n",
       "       [-6.5473132, -7.6285961],\n",
       "       [-7.0075448, -7.83565  ],\n",
       "       [-6.2654605, -6.1226019],\n",
       "       [-5.8420872, -7.390126 ],\n",
       "       [-7.4098848, -7.6729824],\n",
       "       [-7.1495021, -7.8588733],\n",
       "       [-7.3934941, -7.9393231],\n",
       "       [-4.8188793, -5.1247688],\n",
       "       [-3.4172217,  7.6019824],\n",
       "       [-4.9149021, -6.844846 ],\n",
       "       [-8.4137414, -5.6024328],\n",
       "       [-7.4101283, -7.4559278],\n",
       "       [-6.2410347, -8.5416297],\n",
       "       [-7.7552454, -8.2629093],\n",
       "       [-5.3284752, -6.764435 ],\n",
       "       [-5.6784133, -7.288185 ],\n",
       "       [-6.0085025, -7.2061331],\n",
       "       [-6.7930374, -7.0357868],\n",
       "       [-7.542251 , -6.3095109],\n",
       "       [-9.3512717, -7.6770048],\n",
       "       [-6.9423063, -5.9249673],\n",
       "       [-5.2510116, -8.2602111],\n",
       "       [-8.4860735, -6.676646 ],\n",
       "       [-6.6977609, -6.631889 ],\n",
       "       [-7.8653532, -6.3760631],\n",
       "       [-7.5262001, -7.9616576],\n",
       "       [-7.8445507, -6.1940581],\n",
       "       [-6.8311056, -7.7110597],\n",
       "       [-5.3772701, -6.8060148],\n",
       "       [-6.2468453, -4.6094167],\n",
       "       [-6.3025551, -7.083155 ],\n",
       "       [-3.7461483,  7.6938295],\n",
       "       [-7.1546789, -9.1820308],\n",
       "       [-6.0502216, -9.0912449],\n",
       "       [-7.6359779, -8.3023633],\n",
       "       [-8.1840967, -6.210437 ],\n",
       "       [-7.3239205, -6.5028091],\n",
       "       [-5.1924856, -5.9984698],\n",
       "       [-5.9534496, -4.970693 ],\n",
       "       [-8.0628857, -8.9193418],\n",
       "       [-7.5314633, -6.8327109],\n",
       "       [-5.2346595, -7.1291456],\n",
       "       [-6.945707 , -8.0911258],\n",
       "       [-6.5898523, -4.8047088],\n",
       "       [-5.3565031, -6.3411995],\n",
       "       [-6.6199047, -7.7844262],\n",
       "       [-6.5084813, -7.4840948],\n",
       "       [-7.4720211, -7.7441004],\n",
       "       [-6.5526998, -7.0992101],\n",
       "       [-8.3582134, -5.7363556],\n",
       "       [-6.8022589, -7.7413938],\n",
       "       [-6.7593316, -6.3656708],\n",
       "       [-6.7802949, -6.1287225],\n",
       "       [-5.8733344, -7.4570015],\n",
       "       [-7.149034 , -6.1625673],\n",
       "       [-3.6155326,  7.8180795],\n",
       "       [-3.3559913,  7.4994389],\n",
       "       [-6.5411308, -7.2953975],\n",
       "       [-6.2342512, -5.511478 ],\n",
       "       [-6.4955617, -6.9128043],\n",
       "       [-7.1185752, -7.7876733],\n",
       "       [-6.8612088, -5.2036723],\n",
       "       [-6.0100213, -5.5244717]])"
      ]
     },
     "execution_count": 111,
     "metadata": {},
     "output_type": "execute_result"
    }
   ],
   "source": [
    "category = [[] for _ in centroids]\n",
    "for i in range(len(x)):\n",
    "    min_cat = np.argmin(distances[:, i])\n",
    "    category[min_cat].append(x[i])\n",
    "\n",
    "category = [np.array(sublist) for sublist in category]\n",
    "category[1]"
   ]
  },
  {
   "cell_type": "code",
   "execution_count": 113,
   "id": "3433e215-e57a-4d1b-87a5-90949f7eed72",
   "metadata": {},
   "outputs": [
    {
     "data": {
      "text/plain": [
       "array([[ 2.7989229,  3.8972882],\n",
       "       [-6.7550199, -6.4210104],\n",
       "       [-3.0750213,  9.5506443]])"
      ]
     },
     "execution_count": 113,
     "metadata": {},
     "output_type": "execute_result"
    }
   ],
   "source": [
    "centroid_x, itera = 0, 0\n",
    "for i in category:\n",
    "    centroids[itera] = np.sum(i, axis = 0)/i.shape[0] \n",
    "    itera += 1    \n",
    "\n",
    "centroids"
   ]
  },
  {
   "cell_type": "code",
   "execution_count": 114,
   "id": "978fbf15-5d2a-4481-aaca-adab3b261202",
   "metadata": {},
   "outputs": [
    {
     "data": {
      "text/plain": [
       "array([[-2.3360167,  9.3996035],\n",
       "       [-2.9883719,  8.8286272],\n",
       "       [-3.7005011,  9.6708397],\n",
       "       [-3.1109042, 10.8665643],\n",
       "       [-3.9245684,  8.5936408],\n",
       "       [-3.2112507,  8.686624 ],\n",
       "       [-2.4121201,  9.9829311],\n",
       "       [-1.9223405, 11.2047418],\n",
       "       [-2.6704833,  9.418337 ],\n",
       "       [-2.9726153,  8.5485564],\n",
       "       [-3.3987121,  8.1984758],\n",
       "       [-3.4997339,  8.4479884],\n",
       "       [-3.5800901,  9.4967585],\n",
       "       [-2.2817377, 10.3214289],\n",
       "       [-2.147802 , 10.5523227],\n",
       "       [-2.9698364, 10.0714084],\n",
       "       [-3.5715013,  9.4878786],\n",
       "       [-3.1098363,  8.7225924],\n",
       "       [-3.5220287,  9.3285335],\n",
       "       [-2.5812077, 10.017819 ],\n",
       "       [-2.1779342,  9.9898313],\n",
       "       [-3.886867 ,  8.0764611],\n",
       "       [-2.5450237, 10.5789298],\n",
       "       [-3.0389578,  9.5275536],\n",
       "       [-2.2493148,  9.796109 ],\n",
       "       [-2.1514103,  9.5750707],\n",
       "       [-3.3484151,  8.7050738],\n",
       "       [-3.2924509,  8.6922246],\n",
       "       [-3.3176912,  8.5125291],\n",
       "       [-3.1861196,  9.6259624],\n",
       "       [-4.4279688,  8.9877723],\n",
       "       [-4.2341155,  8.4519986],\n",
       "       [-3.9877196,  8.2944419],\n",
       "       [-2.978672 ,  9.5568462],\n",
       "       [-2.2325068,  9.8414694],\n",
       "       [-3.1892223,  9.2465398],\n",
       "       [-3.3930551,  9.1680112],\n",
       "       [-5.1289427,  9.8361886],\n",
       "       [-2.4489674, 11.4775282],\n",
       "       [-3.4286219, 10.5642205],\n",
       "       [-2.9557126,  9.8706849],\n",
       "       [-2.7738545, 11.7344553],\n",
       "       [-3.0535803,  9.1252087],\n",
       "       [-3.4838793,  9.8013707],\n",
       "       [-1.6966718, 10.3705262],\n",
       "       [-2.4961957, 10.4678202],\n",
       "       [-2.5862993,  9.3554381],\n",
       "       [-1.6871375, 10.9110791],\n",
       "       [-3.8373837,  9.2111474],\n",
       "       [-2.7326604,  9.7282866],\n",
       "       [-4.0598611,  9.0828491],\n",
       "       [-2.7015586,  9.3158335],\n",
       "       [-2.7288695,  9.3713987],\n",
       "       [-3.6601912,  9.3899841],\n",
       "       [-4.1166809,  9.19892  ]])"
      ]
     },
     "execution_count": 114,
     "metadata": {},
     "output_type": "execute_result"
    }
   ],
   "source": [
    "i"
   ]
  },
  {
   "cell_type": "code",
   "execution_count": 115,
   "id": "0fc9bcfe-4c2c-4cb2-8e3d-15c842706a86",
   "metadata": {},
   "outputs": [
    {
     "data": {
      "text/plain": [
       "<matplotlib.collections.PathCollection at 0x190659c7150>"
      ]
     },
     "execution_count": 115,
     "metadata": {},
     "output_type": "execute_result"
    },
    {
     "data": {
      "image/png": "[encoded data removed]",
      "text/plain": [
       "<Figure size 640x480 with 1 Axes>"
      ]
     },
     "metadata": {},
     "output_type": "display_data"
    }
   ],
   "source": [
    "plt.scatter(x[:, 0], x[:, 1])\n",
    "plt.scatter(centroids[:, 0], centroids[:, 1], marker = \"x\", color = \"red\")"
   ]
  },
  {
   "cell_type": "code",
   "execution_count": null,
   "id": "35677670-b425-44c9-b46e-4596eb36883a",
   "metadata": {},
   "outputs": [],
   "source": []
  }
 ],
 "metadata": {
  "kernelspec": {
   "display_name": "Python 3 (ipykernel)",
   "language": "python",
   "name": "python3"
  },
  "language_info": {
   "codemirror_mode": {
    "name": "ipython",
    "version": 3
   },
   "file_extension": ".py",
   "mimetype": "text/x-python",
   "name": "python",
   "nbconvert_exporter": "python",
   "pygments_lexer": "ipython3",
   "version": "3.11.5"
  }
 },
 "nbformat": 4,
 "nbformat_minor": 5
}
